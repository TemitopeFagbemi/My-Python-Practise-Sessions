{
 "cells": [
  {
   "cell_type": "markdown",
   "id": "0c9ada43-5f1d-4847-a246-900c1b0b21ae",
   "metadata": {},
   "source": [
    "# Managing Imports"
   ]
  },
  {
   "cell_type": "code",
   "execution_count": null,
   "id": "600cb897-9e87-471b-9504-29a1dae5635b",
   "metadata": {},
   "outputs": [],
   "source": [
    "# proper import example 1\n",
    "import matplotlib.pyplot as plt\n",
    "import numpy as np"
   ]
  },
  {
   "cell_type": "code",
   "execution_count": null,
   "id": "f19e80f1-e14a-4819-85c6-62fedbaa0bf3",
   "metadata": {},
   "outputs": [],
   "source": [
    "# example 2\n",
    "from datetime import datetime\n",
    "import seaborn as sns"
   ]
  },
  {
   "cell_type": "code",
   "execution_count": null,
   "id": "f50917c2-85ca-4fb7-b7f0-f87afc26a3e6",
   "metadata": {},
   "outputs": [],
   "source": [
    "# Bad import example 1\n",
    "from math, random import sqrt, randit"
   ]
  },
  {
   "cell_type": "code",
   "execution_count": null,
   "id": "e54d51c6-94e1-43c7-98ef-35b182d976b3",
   "metadata": {},
   "outputs": [],
   "source": [
    "# example 2\n",
    "import matplotlip, scipy"
   ]
  },
  {
   "cell_type": "markdown",
   "id": "8fa9bb44-79f1-4deb-b182-7f8f595c9cf5",
   "metadata": {},
   "source": [
    "# Managing indentations"
   ]
  },
  {
   "cell_type": "code",
   "execution_count": null,
   "id": "1aac127b-70d4-4940-bc60-8608d1a37e09",
   "metadata": {},
   "outputs": [],
   "source": [
    "# example 1\n",
    "def calculate_area(shape, dimensions):\n",
    "    if shape == 'circle':\n",
    "        radius = dimensions[0]\n",
    "        return 3.14 * radius**2\n",
    "    elif shape == 'square':\n",
    "        side = dimensions[0]\n",
    "        return side * side\n",
    "    else:\n",
    "        return \"shape not recognised\""
   ]
  },
  {
   "cell_type": "code",
   "execution_count": null,
   "id": "1161d8b2-27cd-4c94-a7f7-f53533718fc0",
   "metadata": {},
   "outputs": [],
   "source": [
    "calculate_area('circle', [8])"
   ]
  },
  {
   "cell_type": "code",
   "execution_count": null,
   "id": "bbd807d8-aa27-4e0b-970d-4711c6515080",
   "metadata": {},
   "outputs": [],
   "source": [
    "calculate_area('square', [6])"
   ]
  },
  {
   "cell_type": "code",
   "execution_count": null,
   "id": "dbedc0fa-bf66-4e9c-abbe-54068493bcc2",
   "metadata": {},
   "outputs": [],
   "source": [
    "calculate_area('triangle', [8])"
   ]
  },
  {
   "cell_type": "code",
   "execution_count": null,
   "id": "0d91357d-f9bb-431c-9690-125b93171c61",
   "metadata": {},
   "outputs": [],
   "source": [
    "def calculate_volume(length, width, height):\n",
    "    if length > 0 and width > 0 and height > 0:\n",
    "        volume = length * width * height\n",
    "        return volume\n",
    "    else:\n",
    "        return 'invalid dimension'"
   ]
  },
  {
   "cell_type": "code",
   "execution_count": null,
   "id": "a7414469-7d45-4d49-8d80-91da8271f626",
   "metadata": {},
   "outputs": [],
   "source": [
    "calculate_volume(5,3,7)"
   ]
  },
  {
   "cell_type": "code",
   "execution_count": null,
   "id": "bbb93754-2b7f-495c-9300-708025a4f80b",
   "metadata": {},
   "outputs": [],
   "source": [
    "calculate_volume(0,3,7)"
   ]
  },
  {
   "cell_type": "code",
   "execution_count": null,
   "id": "bb4d34a8-d274-4697-8bb2-dd9502e94c1d",
   "metadata": {},
   "outputs": [],
   "source": [
    "def calculate_volume(length, width, height):       #example of improper indentation\n",
    "    if length > 0 and width > 0 and height > 0:\n",
    "      volume = length * width * height\n",
    "        return volume\n",
    "    else:\n",
    "        return 'invalid dimension'"
   ]
  },
  {
   "cell_type": "code",
   "execution_count": null,
   "id": "12cb1a07-6fc5-4d70-b0b8-363e78950d51",
   "metadata": {},
   "outputs": [],
   "source": [
    "def check_eligibility(age,citizenship):\n",
    "    if age > 18 and citizenship == 'yes':\n",
    "        return 'Eligible to vote'\n",
    "    else:\n",
    "        return 'Not eligible to vote'"
   ]
  },
  {
   "cell_type": "code",
   "execution_count": null,
   "id": "89d3930e-dc08-4b04-8810-f1d467364111",
   "metadata": {},
   "outputs": [],
   "source": [
    "check_eligibility(17,'yes')"
   ]
  },
  {
   "cell_type": "code",
   "execution_count": null,
   "id": "2c0bf280-e167-49fa-9ddc-1cdf9db5e8b8",
   "metadata": {},
   "outputs": [],
   "source": [
    "check_eligibility(19,'yes')"
   ]
  },
  {
   "cell_type": "code",
   "execution_count": null,
   "id": "a3444a0c-0e93-4cab-ae30-9b07bac071e5",
   "metadata": {},
   "outputs": [],
   "source": [
    "check_eligibility(50,'no')"
   ]
  },
  {
   "cell_type": "code",
   "execution_count": null,
   "id": "17eccb38-7d3e-43fa-bc28-3bc07c7c3e27",
   "metadata": {},
   "outputs": [],
   "source": [
    "# example of improper indentation\n",
    "def calculate_discount(price, discount):\n",
    "    if price > 100:\n",
    "    discount_rate = 0.10\n",
    "    elif price > 50\n",
    "      discount_rate = 0.05\n",
    "    else:\n",
    "      discount_rate = 0.02\n",
    "    return price -(price*discount_rate)"
   ]
  },
  {
   "cell_type": "code",
   "execution_count": null,
   "id": "c0d6d40b-3361-4b12-8795-a7105f95cbbb",
   "metadata": {},
   "outputs": [],
   "source": [
    "# example of proper indentation\n",
    "def calculate_discount(price, discount):\n",
    "    if price > 100:\n",
    "        discount_rate == 0.10\n",
    "    elif price > 50:\n",
    "        discount_rate == 0.05\n",
    "    else:\n",
    "        discount_rate == 0.02\n",
    "    return price -(price*discount_rate)"
   ]
  },
  {
   "cell_type": "code",
   "execution_count": null,
   "id": "59590b7d-3a26-4728-b09f-daa22974d21d",
   "metadata": {},
   "outputs": [],
   "source": [
    "calculate_discount(108,0.10)"
   ]
  },
  {
   "cell_type": "code",
   "execution_count": null,
   "id": "6d092347-ea7d-4c1b-a593-dc82318e873c",
   "metadata": {},
   "outputs": [],
   "source": [
    "# example 2   improper indentation\n",
    "def list_even_numbers(numbers):\n",
    "    for numbers in numbers:\n",
    "    if number %2 == 0:\n",
    "        print(number)\n",
    "   else:\n",
    "      continue\n"
   ]
  },
  {
   "cell_type": "code",
   "execution_count": null,
   "id": "21d0b72a-fd94-4b87-865b-06520c7a877f",
   "metadata": {},
   "outputs": [],
   "source": [
    "# example 2   proper indentation\n",
    "def list_even_numbers(numbers):\n",
    "    for number in numbers:\n",
    "        if number %2 == 0:\n",
    "            print(number)\n",
    "        else:\n",
    "            continue"
   ]
  },
  {
   "cell_type": "code",
   "execution_count": null,
   "id": "a8d77810-85e9-4cc5-914c-b4756b42f590",
   "metadata": {},
   "outputs": [],
   "source": [
    "list_even_numbers([1,2,3,4,5,6,7,8,9,10])"
   ]
  },
  {
   "cell_type": "markdown",
   "id": "347c73c2-1156-4a76-a3ac-3ddc4d436189",
   "metadata": {},
   "source": [
    "# Utilizing comment"
   ]
  },
  {
   "cell_type": "code",
   "execution_count": null,
   "id": "40752e2f-8c6c-4cd2-90ca-9eb8d94a702d",
   "metadata": {},
   "outputs": [],
   "source": [
    "# this is block comment\n",
    "tasks = ['walk upright', 'maintain peace', 'be fearless'] # example of inline comment"
   ]
  },
  {
   "cell_type": "code",
   "execution_count": null,
   "id": "ffa7015a-a598-44b7-b719-2c0be133bd0e",
   "metadata": {},
   "outputs": [],
   "source": [
    "# this function calculates the average of a list of numbers and print the results\n",
    "def calculate_average(numbers):\n",
    "    total_sum = sum(numbers) # inline comment. this sums up the list of numbers\n",
    "    count = len(numbers) # count how many numbers\n",
    "    average = total_sum/ count # this calculates the average\n",
    "    print(\"the average is:\", average)"
   ]
  },
  {
   "cell_type": "code",
   "execution_count": null,
   "id": "69941e5e-15bf-4d73-8bf4-93b9ba34a92e",
   "metadata": {},
   "outputs": [],
   "source": [
    "calculate_average([1,2,3,4,5,6,7,8,9,10,11,12])"
   ]
  },
  {
   "cell_type": "code",
   "execution_count": null,
   "id": "dff91ea3-3449-4be3-8f0d-889a21a60051",
   "metadata": {},
   "outputs": [],
   "source": [
    "# This function is used to check for prime numbers\n",
    "def is_prime(number):\n",
    "    if number > 1:  # all primes are greater than 1\n",
    "        for i in range(2, number):\n",
    "            if (number % i) == 0: #checking for factors\n",
    "                print(number, 'is not a prime number')\n",
    "                break\n",
    "            else:\n",
    "                print(number, 'is a prime number')\n",
    "    else:\n",
    "        print(number, 'is not a prime number') # 1 is not a prime number"
   ]
  },
  {
   "cell_type": "code",
   "execution_count": null,
   "id": "ded2c7ee-8c4e-4769-ad66-b66a03830529",
   "metadata": {},
   "outputs": [],
   "source": [
    "is_prime(5)"
   ]
  },
  {
   "cell_type": "code",
   "execution_count": null,
   "id": "74b2900f-f9dd-493d-96bc-3e0245640718",
   "metadata": {},
   "outputs": [],
   "source": [
    "is_prime(14)"
   ]
  },
  {
   "cell_type": "markdown",
   "id": "5895b4a2-fae4-4f72-9d61-b72abd4cd28e",
   "metadata": {},
   "source": [
    "# Documenting in Docstrings"
   ]
  },
  {
   "cell_type": "code",
   "execution_count": null,
   "id": "f285b17b-4590-4815-9d56-07f56850eeb6",
   "metadata": {},
   "outputs": [],
   "source": [
    "# Single line docstring\n",
    "def greet(name):\n",
    "    \"\"\"Greet is a function that returns an hello to an arguement 'name'\"\"\"\n",
    "    print(f\"Hello, {name}!\")"
   ]
  },
  {
   "cell_type": "code",
   "execution_count": null,
   "id": "f1b14736-4ad7-4dbd-bf19-d23b5d2d2ca6",
   "metadata": {},
   "outputs": [],
   "source": [
    "greet(\"Temi\")"
   ]
  },
  {
   "cell_type": "code",
   "execution_count": null,
   "id": "58016895-838d-4946-acd8-10ebec272f76",
   "metadata": {},
   "outputs": [],
   "source": [
    "greet(\"10Alytics\")"
   ]
  },
  {
   "cell_type": "code",
   "execution_count": null,
   "id": "361c5c5d-b055-413d-9750-52649eb7ad6e",
   "metadata": {},
   "outputs": [],
   "source": [
    "# multiple line docstring\n",
    "def divide(x,y):\n",
    "    \"\"\" Divides the first numher by the second and returns the result.\n",
    "    Parameters\n",
    "    -----------------\n",
    "    x: float\n",
    "        The numerator\n",
    "    y: float\n",
    "        The denominator, should not be zero\n",
    "\n",
    "    Returns\n",
    "    -----------------\n",
    "    result: float\n",
    "        The division of x by y\n",
    "    \"\"\"\n",
    "    result = x / y\n",
    "    return result"
   ]
  },
  {
   "cell_type": "code",
   "execution_count": null,
   "id": "9b78fc3d-8eb1-40cf-8d6e-7cbd7253058d",
   "metadata": {},
   "outputs": [],
   "source": [
    "divide(7,5)"
   ]
  },
  {
   "cell_type": "code",
   "execution_count": null,
   "id": "93bcb31b-0ce2-4119-87e5-747ae8fc48aa",
   "metadata": {},
   "outputs": [],
   "source": [
    "divide(4,9)"
   ]
  },
  {
   "cell_type": "code",
   "execution_count": null,
   "id": "3f05470c-8776-4cd9-bd8e-3da1490d710a",
   "metadata": {},
   "outputs": [],
   "source": [
    "divide(19,4)"
   ]
  },
  {
   "cell_type": "markdown",
   "id": "be6336d5-f67d-43f3-af01-789708816966",
   "metadata": {},
   "source": [
    "## Utilizing blank lines"
   ]
  },
  {
   "cell_type": "code",
   "execution_count": null,
   "id": "639d1456-5846-4377-a5a0-787bf91d5f33",
   "metadata": {},
   "outputs": [],
   "source": [
    "def first_function():\n",
    "    print(\"This is the first function\")\n",
    "    return none\n",
    "\n",
    "\n",
    "def second_function():\n",
    "    print(\"This is the second function\")\n",
    "    return none\n",
    "    \n",
    "\n",
    "def third_function():\n",
    "    print(\"This is the third function\")\n",
    "    return none"
   ]
  },
  {
   "cell_type": "markdown",
   "id": "e7ebf1c2-08fb-4232-8b67-ca954a1528a0",
   "metadata": {},
   "source": [
    "## Managing line length"
   ]
  },
  {
   "cell_type": "code",
   "execution_count": null,
   "id": "04adf58d-35e1-4379-94b5-3294bc0ca302",
   "metadata": {},
   "outputs": [],
   "source": [
    "\"\"\"\n",
    "Max line length is 78 characters and 72 for docstrings/comments\n",
    "\"\"\""
   ]
  },
  {
   "cell_type": "code",
   "execution_count": null,
   "id": "d5c391c1-7726-4e2a-af47-1de6a1c24a8d",
   "metadata": {},
   "outputs": [],
   "source": [
    "with open(/path/to/the/source/file) as source_file,\n",
    "open('path/to/the/destination/file','w') as destination_file:destination_file.write(source_file.read())"
   ]
  },
  {
   "cell_type": "code",
   "execution_count": null,
   "id": "d960eec3-36b9-4dc9-8bc4-e7978fa961aa",
   "metadata": {},
   "outputs": [],
   "source": [
    "# table_1 = table_1.merge(table_2, on=['table_id','name', 'title', 'price'], how='inner')\n",
    "\n",
    "table_1 = table_1.merge(table_2, \n",
    "                        on=['table_id','name', 'title', 'price'], \n",
    "                        how='inner')"
   ]
  },
  {
   "cell_type": "markdown",
   "id": "08254589-8a71-44f6-8600-4e84362cb136",
   "metadata": {},
   "source": [
    "## Adhering to Naming Convention\n",
    "\n",
    "* Lowercase: used for naming variables\n",
    "* UPPERCASE: designates constants\n",
    "* camelCASE: it's rarely used in python\n",
    "* Capitalizedwords: recommended for classes\n",
    "* use ofunderscores (_): to represent spaces "
   ]
  },
  {
   "cell_type": "code",
   "execution_count": null,
   "id": "8636c704-a587-4772-a994-8727b2b64c11",
   "metadata": {},
   "outputs": [],
   "source": [
    "# lowersases\n",
    "age = 29\n",
    "city = 'Birmingham'"
   ]
  },
  {
   "cell_type": "code",
   "execution_count": null,
   "id": "461d048f-db7f-4d71-81d7-837b50d3a19b",
   "metadata": {},
   "outputs": [],
   "source": [
    "# underscores\n",
    "def calculate_tax():\n",
    "    tax_rate = 0.5\n"
   ]
  },
  {
   "cell_type": "code",
   "execution_count": null,
   "id": "d3722263-b29b-4f02-8a96-0392c9a96dbf",
   "metadata": {},
   "outputs": [],
   "source": [
    "# UPPERCASE\n",
    "MAX_SPEED = 120\n",
    "EARTH_RADIUS = 6371\n",
    "WATER_BOILING_POINT = 100\n",
    "DEFAULT_LANGUAGE = 'EN'"
   ]
  },
  {
   "cell_type": "code",
   "execution_count": null,
   "id": "d34819ca-dd9e-4332-aea5-b4e0ec1db20f",
   "metadata": {},
   "outputs": [],
   "source": [
    "#camelCASE\n",
    "userAge = 15\n",
    "userName ='Brad'"
   ]
  },
  {
   "cell_type": "code",
   "execution_count": null,
   "id": "806a5ab4-1c19-4b35-98fd-05353f767350",
   "metadata": {},
   "outputs": [],
   "source": [
    "# Capitalisedwords\n",
    "class UserAccount:\n",
    "    defaultStatus = 'Active'"
   ]
  },
  {
   "cell_type": "code",
   "execution_count": null,
   "id": "cd0285cf-b32d-4955-bfec-353cbba37ad5",
   "metadata": {},
   "outputs": [],
   "source": [
    "Social_Security_Number = 192-347-947\n",
    "Full_Name = 'Barbara Cole'"
   ]
  },
  {
   "cell_type": "markdown",
   "id": "6b646b26-4e30-45c0-af21-604c04401f91",
   "metadata": {},
   "source": [
    "## Managing White Spaces"
   ]
  },
  {
   "cell_type": "code",
   "execution_count": null,
   "id": "0293df4f-0147-4eee-989a-42b83d70a0a7",
   "metadata": {},
   "outputs": [],
   "source": [
    "# Proper use of white spaces\n",
    "Calculate_area(width[2:5], heigth[5:7])\n",
    "coffee = (4,)\n",
    "serve_drink(3)"
   ]
  },
  {
   "cell_type": "code",
   "execution_count": null,
   "id": "5b601668-a543-47fa-855e-8c35c9e75299",
   "metadata": {},
   "outputs": [],
   "source": [
    "# Improper use of white spaces\n",
    "Calculate_area ( width [2:5], heigth [5 :7 ] )\n",
    "coffee = (4, )\n",
    "serve_drink ( 3 )"
   ]
  },
  {
   "cell_type": "markdown",
   "id": "9182b165-2ea7-4560-ac97-06c803705768",
   "metadata": {},
   "source": [
    "#### If, Else, Else Statement\n",
    "##### Comparison Operators\n",
    "\n",
    "##### Comparison operators are used to compare two values\n",
    "\n",
    "###### * == Equals to\n",
    "###### * != Not Equals to\n",
    "###### * #> Greater than\n",
    "###### * #>= Greater than or equals to\n",
    "###### * < Less than\n",
    "###### * <= Less than or equals to"
   ]
  },
  {
   "cell_type": "code",
   "execution_count": null,
   "id": "567d74ca-aa13-445a-a46d-eb5a0c7434e5",
   "metadata": {},
   "outputs": [],
   "source": [
    "password = 27459"
   ]
  },
  {
   "cell_type": "code",
   "execution_count": null,
   "id": "dea56f62-6208-447a-96fa-43f839981996",
   "metadata": {},
   "outputs": [],
   "source": [
    "user_password = int(input(\"Enter your password\"))\n",
    "if user_password == password:\n",
    "    print(\"Correct password\")\n",
    "else:\n",
    "    print(\"Incorrect password\")\n"
   ]
  },
  {
   "cell_type": "code",
   "execution_count": null,
   "id": "bfaedb50-34d7-4c1f-b2c7-8f45e175837a",
   "metadata": {},
   "outputs": [],
   "source": [
    "user_password = int(input(\"Enter your password\"))\n",
    "if user_password == password:\n",
    "    print(\"Correct password\")\n",
    "else:\n",
    "    print(\"Incorrect password\")"
   ]
  },
  {
   "cell_type": "code",
   "execution_count": null,
   "id": "66731927-f5db-45e2-8afd-f41689ee5e0c",
   "metadata": {},
   "outputs": [],
   "source": [
    "name = input(\"what's your name: \")\n",
    "\n",
    "if name == \"Anderson\":\n",
    "    print(f\"Hello {name}, Welcome to 10Alytics\")\n",
    "else:\n",
    "    print(\"Access Denied\")\n",
    "\n"
   ]
  },
  {
   "cell_type": "code",
   "execution_count": null,
   "id": "4cf2cca2-ca9f-4594-b85c-9a7860f35b96",
   "metadata": {},
   "outputs": [],
   "source": [
    "name = input(\"what's your name: \")\n",
    "\n",
    "if name == \"Anderson\":\n",
    "    print(f\"Hello {name}, Welcome to 10Alytics\")\n",
    "else:\n",
    "    print(\"Access Denied\")"
   ]
  },
  {
   "cell_type": "code",
   "execution_count": null,
   "id": "ccfc4cfa-620c-41d2-b034-26780d7721e9",
   "metadata": {},
   "outputs": [],
   "source": [
    "name = input(\"what's your name:\")\n",
    "\n",
    "if name == \"Visitor\":\n",
    "    print(f\"Hello {name}, Welcome to 10Alytics\")\n",
    "elif name == \"New intake\":\n",
    "    print(\"Please report to the reception\")\n",
    "elif name == \"Staff\":\n",
    "    print(\"Enter your login details\")\n",
    "else:\n",
    "    print(\"Speak to the receptionist\")"
   ]
  },
  {
   "cell_type": "code",
   "execution_count": null,
   "id": "64834684-5af9-4fdf-b7b7-9c0c2e3ad993",
   "metadata": {},
   "outputs": [],
   "source": [
    "name = input(\"what's your name:\")\n",
    "\n",
    "if name == \"Visitor\":\n",
    "    print(f\"Hello {name}, Welcome to 10Alytics\")\n",
    "elif name == \"New intake\":\n",
    "    print(\"Please report to the reception\")\n",
    "elif name == \"Staff\":\n",
    "    print(\"Enter your login details\")\n",
    "else:\n",
    "    print(\"Speak to the receptionist\")"
   ]
  },
  {
   "cell_type": "code",
   "execution_count": null,
   "id": "7a5d416c-c5e3-411a-acc8-55d694dd7399",
   "metadata": {},
   "outputs": [],
   "source": [
    "name = input(\"what's your name:\")\n",
    "\n",
    "if name == \"Visitor\":\n",
    "    print(f\"Hello {name}, Welcome to 10Alytics\")\n",
    "elif name == \"New intake\":\n",
    "    print(\"Please report to the reception\")\n",
    "elif name == \"Staff\":\n",
    "    print(\"Enter your login details\")\n",
    "else:\n",
    "    print(\"Speak to the receptionist\")"
   ]
  },
  {
   "cell_type": "code",
   "execution_count": null,
   "id": "9d105215-bca7-4412-9d03-df03736bcbc9",
   "metadata": {},
   "outputs": [],
   "source": [
    "first_test_score = int(input(\"enter your first test score:\"))\n",
    "second_test_score = int(input(\"enter your second test score:\"))\n",
    "exam_score = int(input(\"enter your exam score:\"))\n",
    "\n",
    "total_score = first_test_score + first_test_score + exam_score\n",
    "\n",
    "if total_score >= 70:\n",
    "               print(\"A\")\n",
    "elif total_score >= 60:\n",
    "               print(\"B\")\n",
    "elif total_score >= 50:\n",
    "               print(\"C\")\n",
    "elif total_score >= 40:\n",
    "               print(\"D\")\n",
    "else:\n",
    "    print(\"F\")\n",
    "    \n"
   ]
  },
  {
   "cell_type": "code",
   "execution_count": null,
   "id": "d7ed7325-0d8f-4a87-af0f-3fbc18857453",
   "metadata": {},
   "outputs": [],
   "source": [
    "first_test_score = int(input(\"enter your first test score:\"))\n",
    "second_test_score = int(input(\"enter your second test score:\"))\n",
    "exam_score = int(input(\"enter your exam score:\"))\n",
    "\n",
    "total_score = first_test_score + first_test_score + exam_score\n",
    "\n",
    "if total_score >= 70:\n",
    "               print(\"A\")\n",
    "elif total_score >= 60:\n",
    "               print(\"B\")\n",
    "elif total_score >= 50:\n",
    "               print(\"C\")\n",
    "elif total_score >= 40:\n",
    "               print(\"D\")\n",
    "else:\n",
    "    print(\"F\")"
   ]
  },
  {
   "cell_type": "code",
   "execution_count": null,
   "id": "81dda737-26d0-4ad3-a354-df1fae80abaa",
   "metadata": {},
   "outputs": [],
   "source": [
    "first_test_score = int(input(\"enter your first test score:\"))\n",
    "second_test_score = int(input(\"enter your second test score:\"))\n",
    "exam_score = int(input(\"enter your exam score:\"))\n",
    "\n",
    "total_score = first_test_score + first_test_score + exam_score\n",
    "\n",
    "if total_score >= 70:\n",
    "               print(\"A\")\n",
    "elif total_score >= 60:\n",
    "               print(\"B\")\n",
    "elif total_score >= 50:\n",
    "               print(\"C\")\n",
    "elif total_score >= 40:\n",
    "               print(\"D\")\n",
    "else:\n",
    "    print(\"F\")"
   ]
  },
  {
   "cell_type": "code",
   "execution_count": null,
   "id": "eb600101-4a18-431e-9774-c1839752569d",
   "metadata": {},
   "outputs": [],
   "source": [
    "first_test_score = int(input(\"enter your first test score:\"))\n",
    "second_test_score = int(input(\"enter your second test score:\"))\n",
    "exam_score = int(input(\"enter your exam score:\"))\n",
    "\n",
    "total_score = first_test_score + first_test_score + exam_score\n",
    "\n",
    "if total_score >= 70:\n",
    "               print(\"A\")\n",
    "elif total_score >= 60:\n",
    "               print(\"B\")\n",
    "elif total_score >= 50:\n",
    "               print(\"C\")\n",
    "elif total_score >= 40:\n",
    "               print(\"D\")\n",
    "else:\n",
    "    print(\"F\")"
   ]
  },
  {
   "cell_type": "markdown",
   "id": "94934f14-3539-4fb2-bcb5-a72ce08462f0",
   "metadata": {},
   "source": [
    "### IF/ELIF/ELSE - AND/OR STATEMENT"
   ]
  },
  {
   "cell_type": "code",
   "execution_count": null,
   "id": "18099b90-7be5-49aa-bc77-6b4b87f7b648",
   "metadata": {},
   "outputs": [],
   "source": [
    "#### Example   Was unable to complete task\n",
    "\n",
    "# Input weather and temperature\n",
    "weather = input(\"what's the weather like in your area, Is it (sunny, windy, raining, wintry, snowy): \")\n",
    "tempetature = float(input(\"what's your temperature (in celsius): \"))\n",
    "\n",
    "# processing weather/temperature to recommend activities\n",
    "\n",
    "if weather.lower() == \"sunny\" and temperature >= 25:\n",
    "    recommendation = \"It's a perfect day for a picnic in the park\"\n",
    "elif weather.lower() == \"windy\" and temperature < 25:\n",
    "    recommendation = \"It's a nice day for a walk\"\n",
    "elif weather.lower() == \"raining\" and temperature > 20:\n",
    "    recommendation = \"Don't go out without a raincoat or umbrella\"\n",
    "elif weather.lower() == \"wintry\" and temperature < 18:\n",
    "    recommendation = \"Remember to wear a jacket, scarf and glooves\"\n",
    "elif weather.lower() == \"snowy\" or weather.lower() == \"raining\":\n",
    "    recommendation = \"Keep warm inside except going out is necessary\"\n",
    "else:\n",
    "    recommendation = \"Check your local area weather forecast for advise\"\n",
    "\n",
    "print(recommendation)"
   ]
  },
  {
   "cell_type": "code",
   "execution_count": null,
   "id": "4c53c067-6c38-4900-b74b-1f71b7200f65",
   "metadata": {},
   "outputs": [],
   "source": [
    "## inputs: age and annual income\n",
    "\n",
    "age = int(input(\"How old are you? \"))\n",
    "annual_income = int(input(\"How much is your annual income? \"))\n",
    "\n",
    "# financial advise based on your age and income\n",
    "\n",
    "if age < 30 and annual_income > 30000:\n",
    "    financial_advice = \"It's high time to consider saving money.\"\n",
    "elif age < 30 and annual_income >= 35000:\n",
    "    financial_advice = \"It's time to start saving towards a mortgage.\"\n",
    "elif age > 40 and annual_income >= 50000:\n",
    "    financial_advice = \"It's time to start growing your money through investment.\"\n",
    "elif age > 50 and annual_income <= 45000:\n",
    "    financial_advice = \"Start saving towards your retirement.\"\n",
    "elif age > 55 and annual_income <= 30000:\n",
    "    financial_advice = \"Consider speaking to a financial adviser considering your age and income.\"\n",
    "else:\n",
    "    financial_advice = \"Speak to a professional financial adviser for a personised advise.\"\n",
    "\n",
    "print(financial_advice)\n",
    "    "
   ]
  },
  {
   "cell_type": "code",
   "execution_count": null,
   "id": "f4cb96c5-fae2-4581-aab7-86db8b5b99d1",
   "metadata": {},
   "outputs": [],
   "source": [
    "## inputs: age and annual income\n",
    "\n",
    "age = int(input(\"How old are you? \"))\n",
    "annual_income = int(input(\"How much is your annual income? \"))\n",
    "\n",
    "# financial advise based on your age and income\n",
    "\n",
    "if age < 30 and annual_income > 30000:\n",
    "    financial_advice = \"It's high time to consider saving money.\"\n",
    "elif age < 30 and annual_income >= 35000:\n",
    "    financial_advice = \"It's time to start saving towards a mortgage.\"\n",
    "elif age > 40 and annual_income >= 50000:\n",
    "    financial_advice = \"It's time to start growing your money through investment.\"\n",
    "elif age > 50 and annual_income > 45000:\n",
    "    financial_advice = \"Start saving towards your retirement.\"\n",
    "elif age <= 55 and annual_income > 30000:\n",
    "    financial_advice = \"Consider speaking to a financial adviser considering your age and income.\"\n",
    "else:\n",
    "    financial_advice = \"Speak to a professional financial adviser for a personised advise.\"\n",
    "\n",
    "print(financial_advice)\n",
    "    "
   ]
  },
  {
   "cell_type": "code",
   "execution_count": null,
   "id": "88ea59ff-c66b-4183-94cf-31256846d891",
   "metadata": {},
   "outputs": [],
   "source": []
  },
  {
   "cell_type": "markdown",
   "id": "c0f97043-276f-48e3-8b03-401975dc517a",
   "metadata": {},
   "source": [
    "#### For Loop"
   ]
  },
  {
   "cell_type": "code",
   "execution_count": null,
   "id": "5b1f7bb2-487f-4a16-992b-a61c276edbaf",
   "metadata": {},
   "outputs": [],
   "source": [
    "name = \"Engineering\"\n",
    "for i in range(1):\n",
    "    print(name)"
   ]
  },
  {
   "cell_type": "code",
   "execution_count": null,
   "id": "fb77454f-0291-443a-adf7-9820d9d707a3",
   "metadata": {},
   "outputs": [],
   "source": [
    "name = \"Engineering\"\n",
    "for i in range(5):\n",
    "    print(name)"
   ]
  },
  {
   "cell_type": "code",
   "execution_count": null,
   "id": "d38e4cf8-20b4-4332-ac88-44d44c1f6358",
   "metadata": {},
   "outputs": [],
   "source": [
    "name = \"Engineering\"\n",
    "for i in range(0,3 ):\n",
    "    print(name)"
   ]
  },
  {
   "cell_type": "code",
   "execution_count": null,
   "id": "bc2038b2-8bca-423f-b5a5-e7ce2fa7e0f2",
   "metadata": {},
   "outputs": [],
   "source": [
    "name = \"Engineering\"\n",
    "for i in range(5):\n",
    "    print(name)"
   ]
  },
  {
   "cell_type": "code",
   "execution_count": null,
   "id": "de1e221e-249b-4d75-872a-dd4b413dd1a4",
   "metadata": {},
   "outputs": [],
   "source": [
    "list1 = [1,2,3,4,5,6,7,8,9,10]\n",
    "\n",
    "for i in range(5,8):\n",
    "    print(i) "
   ]
  },
  {
   "cell_type": "code",
   "execution_count": null,
   "id": "28ce4bbe-9595-4259-b5b2-61522722ce72",
   "metadata": {},
   "outputs": [],
   "source": [
    "# Even numbers = /2=0\n",
    "list1 = [1,2,3,4,5,6,7,8,9,10]\n",
    "\n",
    "for i in list1:\n",
    "    if i % 2 == 0:\n",
    "        print(i)\n",
    "    else:\n",
    "        print(f\"{i} is an odd number\")"
   ]
  },
  {
   "cell_type": "code",
   "execution_count": 14,
   "id": "8f500281-5d1e-43d4-8109-49a324853b1a",
   "metadata": {},
   "outputs": [
    {
     "data": {
      "text/plain": [
       "0"
      ]
     },
     "execution_count": 14,
     "metadata": {},
     "output_type": "execute_result"
    }
   ],
   "source": [
    "10%2"
   ]
  },
  {
   "cell_type": "code",
   "execution_count": 13,
   "id": "38b6bf86-e859-446a-86c4-f79bd37c9949",
   "metadata": {},
   "outputs": [
    {
     "name": "stdout",
     "output_type": "stream",
     "text": [
      "m\n",
      "e\n",
      "n\n",
      "_\n",
      "w\n",
      "e\n",
      "a\n",
      "r\n",
      "s\n",
      "sis not available this time\n"
     ]
    }
   ],
   "source": [
    "men_wears = [\"mens_blazer,shirt_with_tie,Kaftan,tshirts\"]\n",
    "men_wears = \"male_clothing\"\n",
    "for i in male_clothing:\n",
    "    #if i == male_clothing:\n",
    "    print(i)\n",
    "else:\n",
    "    print(f\"{i}is not available this time\")\n",
    "#female_wears = \"skirt,blouse,dress,jumpsuit\"\n",
    "\n",
    "#male_clothing = input(\"what cloth range are you after:\")\n",
    "\n",
    "#for (mens_blazer) in male_clothing:\n",
    "    #if (\"mens_blazer\") in male_clothing:\n",
    "     #   print(\"This is men clothing range\")\n",
    "#female_clothing = input(\"This is women cloth range:\")\n",
    "\n",
    "#for (\"blouse\") in female_clothing:\n",
    " #   if (\"blouse\") in female_clothing:\n",
    " #       print(\"This is women clothing range\")\n",
    "#else:\n",
    " #   print(\"item unavailable\")"
   ]
  },
  {
   "cell_type": "code",
   "execution_count": null,
   "id": "03b79d33-f16e-458c-bd76-6d29912c6a84",
   "metadata": {},
   "outputs": [],
   "source": []
  },
  {
   "cell_type": "code",
   "execution_count": null,
   "id": "660a3ae7-d2d9-43f8-bd63-6554968af7fe",
   "metadata": {},
   "outputs": [],
   "source": []
  }
 ],
 "metadata": {
  "kernelspec": {
   "display_name": "Python 3 (ipykernel)",
   "language": "python",
   "name": "python3"
  },
  "language_info": {
   "codemirror_mode": {
    "name": "ipython",
    "version": 3
   },
   "file_extension": ".py",
   "mimetype": "text/x-python",
   "name": "python",
   "nbconvert_exporter": "python",
   "pygments_lexer": "ipython3",
   "version": "3.13.2"
  }
 },
 "nbformat": 4,
 "nbformat_minor": 5
}
